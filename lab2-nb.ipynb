{
 "cells": [
  {
   "cell_type": "markdown",
   "metadata": {},
   "source": [
    "<!-- -*- mode: markdown; coding: utf-8; fill-column: 60; ispell-dictionary: \"english\" -*- -->\n",
    "\n",
    "<meta charset=\"utf-8\"/>\n",
    "<meta name=\"viewport\" content=\"width=device-width,initial-scale=1\"/>\n",
    "<link rel=\"stylesheet\" href=\"style.css\">\n",
    "\n",
    "\n",
    "# Lab 2 - Testing the database\n",
    "\n",
    "As usual we have to tell Jupyter to allow SQL:"
   ]
  },
  {
   "cell_type": "code",
   "execution_count": 23,
   "metadata": {},
   "outputs": [],
   "source": [
    "%reload_ext sql"
   ]
  },
  {
   "cell_type": "markdown",
   "metadata": {},
   "source": [
    "And then we import our movie database"
   ]
  },
  {
   "cell_type": "code",
   "execution_count": 24,
   "metadata": {
    "scrolled": true
   },
   "outputs": [
    {
     "data": {
      "text/plain": [
       "'Connected: @movies.db'"
      ]
     },
     "execution_count": 24,
     "metadata": {},
     "output_type": "execute_result"
    }
   ],
   "source": [
    "%sql sqlite:///movies.db"
   ]
  },
  {
   "cell_type": "markdown",
   "metadata": {},
   "source": [
    "We want to make sure that SQLite3 really checks our foreign\n",
    "key constraints -- to do that, we run:"
   ]
  },
  {
   "cell_type": "code",
   "execution_count": 25,
   "metadata": {},
   "outputs": [
    {
     "name": "stdout",
     "output_type": "stream",
     "text": [
      " * sqlite:///movies.db\n",
      "Done.\n"
     ]
    },
    {
     "data": {
      "text/plain": [
       "[]"
      ]
     },
     "execution_count": 25,
     "metadata": {},
     "output_type": "execute_result"
    }
   ],
   "source": [
    "%%sql\n",
    "PRAGMA foreign_keys=ON;"
   ]
  },
  {
   "cell_type": "markdown",
   "metadata": {},
   "source": [
    "Now write SQL code for the following tasks:\n",
    "\n",
    "\n",
    "+ Show the names of all movies."
   ]
  },
  {
   "cell_type": "code",
   "execution_count": 28,
   "metadata": {},
   "outputs": [
    {
     "name": "stdout",
     "output_type": "stream",
     "text": [
      " * sqlite:///movies.db\n",
      "Done.\n"
     ]
    },
    {
     "data": {
      "text/html": [
       "<table>\n",
       "    <tr>\n",
       "        <th>imdb_key</th>\n",
       "        <th>title</th>\n",
       "        <th>production_year</th>\n",
       "        <th>playtime</th>\n",
       "    </tr>\n",
       "    <tr>\n",
       "        <td>tt0111161</td>\n",
       "        <td>The Shawshank Redemption</td>\n",
       "        <td>1994</td>\n",
       "        <td>142</td>\n",
       "    </tr>\n",
       "    <tr>\n",
       "        <td>tt0368226</td>\n",
       "        <td>The Room</td>\n",
       "        <td>2003</td>\n",
       "        <td>99</td>\n",
       "    </tr>\n",
       "    <tr>\n",
       "        <td>tt0468569</td>\n",
       "        <td>The Dark Knight</td>\n",
       "        <td>2008</td>\n",
       "        <td>152</td>\n",
       "    </tr>\n",
       "    <tr>\n",
       "        <td>tt0109830</td>\n",
       "        <td>Forrest Gump</td>\n",
       "        <td>1994</td>\n",
       "        <td>142</td>\n",
       "    </tr>\n",
       "    <tr>\n",
       "        <td>tt0110912</td>\n",
       "        <td>Pulp Fiction</td>\n",
       "        <td>1994</td>\n",
       "        <td>154</td>\n",
       "    </tr>\n",
       "    <tr>\n",
       "        <td>tt0108052</td>\n",
       "        <td>Schindlers List</td>\n",
       "        <td>1993</td>\n",
       "        <td>195</td>\n",
       "    </tr>\n",
       "    <tr>\n",
       "        <td>tt0050083</td>\n",
       "        <td>12 Angry Men</td>\n",
       "        <td>1957</td>\n",
       "        <td>96</td>\n",
       "    </tr>\n",
       "    <tr>\n",
       "        <td>tt1375666</td>\n",
       "        <td>Inception</td>\n",
       "        <td>2010</td>\n",
       "        <td>148</td>\n",
       "    </tr>\n",
       "    <tr>\n",
       "        <td>tt0137523</td>\n",
       "        <td>Fight Club</td>\n",
       "        <td>1999</td>\n",
       "        <td>139</td>\n",
       "    </tr>\n",
       "</table>"
      ],
      "text/plain": [
       "[('tt0111161', 'The Shawshank Redemption', 1994, 142),\n",
       " ('tt0368226', 'The Room', 2003, 99),\n",
       " ('tt0468569', 'The Dark Knight', 2008, 152),\n",
       " ('tt0109830', 'Forrest Gump', 1994, 142),\n",
       " ('tt0110912', 'Pulp Fiction', 1994, 154),\n",
       " ('tt0108052', 'Schindlers List', 1993, 195),\n",
       " ('tt0050083', '12 Angry Men', 1957, 96),\n",
       " ('tt1375666', 'Inception', 2010, 148),\n",
       " ('tt0137523', 'Fight Club', 1999, 139)]"
      ]
     },
     "execution_count": 28,
     "metadata": {},
     "output_type": "execute_result"
    }
   ],
   "source": [
    "%%sql\n",
    "SELECT *\n",
    "FROM movies"
   ]
  },
  {
   "cell_type": "markdown",
   "metadata": {},
   "source": [
    "+ Show the performance dates for one of the movies."
   ]
  },
  {
   "cell_type": "code",
   "execution_count": 52,
   "metadata": {},
   "outputs": [
    {
     "name": "stdout",
     "output_type": "stream",
     "text": [
      " * sqlite:///movies.db\n",
      "Done.\n"
     ]
    },
    {
     "data": {
      "text/html": [
       "<table>\n",
       "    <tr>\n",
       "        <th>imdb_key</th>\n",
       "        <th>title</th>\n",
       "        <th>production_year</th>\n",
       "        <th>playtime</th>\n",
       "    </tr>\n",
       "    <tr>\n",
       "        <td>tt0111161</td>\n",
       "        <td>The Shawshank Redemption</td>\n",
       "        <td>1994</td>\n",
       "        <td>142</td>\n",
       "    </tr>\n",
       "    <tr>\n",
       "        <td>tt0368226</td>\n",
       "        <td>The Room</td>\n",
       "        <td>2003</td>\n",
       "        <td>99</td>\n",
       "    </tr>\n",
       "    <tr>\n",
       "        <td>tt0468569</td>\n",
       "        <td>The Dark Knight</td>\n",
       "        <td>2008</td>\n",
       "        <td>152</td>\n",
       "    </tr>\n",
       "    <tr>\n",
       "        <td>tt0109830</td>\n",
       "        <td>Forrest Gump</td>\n",
       "        <td>1994</td>\n",
       "        <td>142</td>\n",
       "    </tr>\n",
       "    <tr>\n",
       "        <td>tt0110912</td>\n",
       "        <td>Pulp Fiction</td>\n",
       "        <td>1994</td>\n",
       "        <td>154</td>\n",
       "    </tr>\n",
       "    <tr>\n",
       "        <td>tt0108052</td>\n",
       "        <td>Schindlers List</td>\n",
       "        <td>1993</td>\n",
       "        <td>195</td>\n",
       "    </tr>\n",
       "    <tr>\n",
       "        <td>tt0050083</td>\n",
       "        <td>12 Angry Men</td>\n",
       "        <td>1957</td>\n",
       "        <td>96</td>\n",
       "    </tr>\n",
       "    <tr>\n",
       "        <td>tt1375666</td>\n",
       "        <td>Inception</td>\n",
       "        <td>2010</td>\n",
       "        <td>148</td>\n",
       "    </tr>\n",
       "    <tr>\n",
       "        <td>tt0137523</td>\n",
       "        <td>Fight Club</td>\n",
       "        <td>1999</td>\n",
       "        <td>139</td>\n",
       "    </tr>\n",
       "</table>"
      ],
      "text/plain": [
       "[('tt0111161', 'The Shawshank Redemption', 1994, 142),\n",
       " ('tt0368226', 'The Room', 2003, 99),\n",
       " ('tt0468569', 'The Dark Knight', 2008, 152),\n",
       " ('tt0109830', 'Forrest Gump', 1994, 142),\n",
       " ('tt0110912', 'Pulp Fiction', 1994, 154),\n",
       " ('tt0108052', 'Schindlers List', 1993, 195),\n",
       " ('tt0050083', '12 Angry Men', 1957, 96),\n",
       " ('tt1375666', 'Inception', 2010, 148),\n",
       " ('tt0137523', 'Fight Club', 1999, 139)]"
      ]
     },
     "execution_count": 52,
     "metadata": {},
     "output_type": "execute_result"
    }
   ],
   "source": [
    "%%sql\n"
   ]
  },
  {
   "cell_type": "markdown",
   "metadata": {},
   "source": [
    "+ Show all data concerning performances at a given theatere\n",
    "  on a given date."
   ]
  },
  {
   "cell_type": "code",
   "execution_count": null,
   "metadata": {},
   "outputs": [],
   "source": [
    "%%sql\n"
   ]
  },
  {
   "cell_type": "markdown",
   "metadata": {},
   "source": [
    "+ List all customers"
   ]
  },
  {
   "cell_type": "code",
   "execution_count": 39,
   "metadata": {},
   "outputs": [
    {
     "name": "stdout",
     "output_type": "stream",
     "text": [
      " * sqlite:///movies.db\n",
      "Done.\n"
     ]
    },
    {
     "data": {
      "text/html": [
       "<table>\n",
       "    <tr>\n",
       "        <th>full_name</th>\n",
       "        <th>user_name</th>\n",
       "    </tr>\n",
       "    <tr>\n",
       "        <td>Gösta Persson</td>\n",
       "        <td>gosta</td>\n",
       "    </tr>\n",
       "    <tr>\n",
       "        <td>Gunnhild Svensson</td>\n",
       "        <td>gunnhild</td>\n",
       "    </tr>\n",
       "    <tr>\n",
       "        <td>Göran Olsson</td>\n",
       "        <td>goran</td>\n",
       "    </tr>\n",
       "    <tr>\n",
       "        <td>Gustav Olofsson</td>\n",
       "        <td>gurra</td>\n",
       "    </tr>\n",
       "    <tr>\n",
       "        <td>Lisa Mattsson</td>\n",
       "        <td>lisa</td>\n",
       "    </tr>\n",
       "</table>"
      ],
      "text/plain": [
       "[('Gösta Persson', 'gosta'),\n",
       " ('Gunnhild Svensson', 'gunnhild'),\n",
       " ('Göran Olsson', 'goran'),\n",
       " ('Gustav Olofsson', 'gurra'),\n",
       " ('Lisa Mattsson', 'lisa')]"
      ]
     },
     "execution_count": 39,
     "metadata": {},
     "output_type": "execute_result"
    }
   ],
   "source": [
    "%%sql\n",
    "SELECT full_name, user_name\n",
    "FROM customers"
   ]
  },
  {
   "cell_type": "markdown",
   "metadata": {},
   "source": [
    "+ List all tickets"
   ]
  },
  {
   "cell_type": "code",
   "execution_count": 40,
   "metadata": {},
   "outputs": [
    {
     "name": "stdout",
     "output_type": "stream",
     "text": [
      " * sqlite:///movies.db\n",
      "Done.\n"
     ]
    },
    {
     "data": {
      "text/html": [
       "<table>\n",
       "    <tr>\n",
       "        <th>id</th>\n",
       "        <th>theater_name</th>\n",
       "        <th>imdb_key</th>\n",
       "        <th>user_name</th>\n",
       "        <th>ticket_date</th>\n",
       "        <th>ticket_time</th>\n",
       "    </tr>\n",
       "    <tr>\n",
       "        <td>0a6915656a489e844190348a3026e362</td>\n",
       "        <td>Filmstaden</td>\n",
       "        <td>tt0368226</td>\n",
       "        <td>gosta</td>\n",
       "        <td>2019-02-01</td>\n",
       "        <td>20:15:00</td>\n",
       "    </tr>\n",
       "</table>"
      ],
      "text/plain": [
       "[('0a6915656a489e844190348a3026e362', 'Filmstaden', 'tt0368226', 'gosta', '2019-02-01', '20:15:00')]"
      ]
     },
     "execution_count": 40,
     "metadata": {},
     "output_type": "execute_result"
    }
   ],
   "source": [
    "%%sql\n",
    "SELECT *\n",
    "FROM tickets\n"
   ]
  },
  {
   "cell_type": "markdown",
   "metadata": {},
   "source": [
    "+ Create a new ticket to some performance (i.e., insert a\n",
    "  new row in your table of tickets)."
   ]
  },
  {
   "cell_type": "code",
   "execution_count": null,
   "metadata": {},
   "outputs": [],
   "source": [
    "%%sql\n"
   ]
  },
  {
   "cell_type": "markdown",
   "metadata": {},
   "source": [
    "In\n",
    "  [PostgreSQL](https://www.postgresql.org/docs/current/sql-insert.html)\n",
    "  we can get any value generated during an insert using the\n",
    "  `INSERT...-RETURNING` statement:"
   ]
  },
  {
   "cell_type": "markdown",
   "metadata": {},
   "source": [
    "~~~{.sql}\n",
    "INSERT\n",
    "INTO       students\n",
    "VALUES     ('Amy', 3.9, 1200)\n",
    "RETURNING  s_id\n",
    "~~~\n"
   ]
  },
  {
   "cell_type": "markdown",
   "metadata": {},
   "source": [
    "In SQLite3 (as of January 2019), we can't do that, instead\n",
    "  we can the following idea: each row in a SQLite3 table has\n",
    "  a `rowid` attribute, it is a unique integer which\n",
    "  essentially tells in which order the rows were inserted,\n",
    "  and it's not displayed in queries, unless we ask for it.\n",
    "  SQLite3 also have a function, `last_insert_rowid()`, which\n",
    "  returns the `rowid` of the last inserted row of a table,\n",
    "  so we can see the `s_id` of the most recently inserted\n",
    "  student with the following query:"
   ]
  },
  {
   "cell_type": "markdown",
   "metadata": {},
   "source": [
    "~~~{.sql}\n",
    "SELECT s_id\n",
    "FROM   students\n",
    "WHERE  rowid = last_insert_rowid();\n",
    "~~~\n"
   ]
  },
  {
   "cell_type": "markdown",
   "metadata": {},
   "source": [
    "Now, check what ticket number we got for the ticket we\n",
    "  created above (it should be the same as the ticket id,\n",
    "  which should be a `randomblob`):"
   ]
  },
  {
   "cell_type": "code",
   "execution_count": null,
   "metadata": {},
   "outputs": [],
   "source": [
    "%%sql\n"
   ]
  },
  {
   "cell_type": "markdown",
   "metadata": {},
   "source": [
    "+ Try to insert two movie theaters with the same name (this\n",
    "  should fail)."
   ]
  },
  {
   "cell_type": "code",
   "execution_count": null,
   "metadata": {},
   "outputs": [],
   "source": [
    "%%sql\n"
   ]
  },
  {
   "cell_type": "markdown",
   "metadata": {},
   "source": [
    "+ Try to insert a performance where the theater doesn’t\n",
    "  exist in the database (this should fail)."
   ]
  },
  {
   "cell_type": "code",
   "execution_count": null,
   "metadata": {},
   "outputs": [],
   "source": [
    "%%sql\n"
   ]
  },
  {
   "cell_type": "markdown",
   "metadata": {},
   "source": [
    "+ Create a ticket where either the user or the performance\n",
    "  doesn’t exist."
   ]
  },
  {
   "cell_type": "code",
   "execution_count": null,
   "metadata": {},
   "outputs": [],
   "source": [
    "%%sql\n"
   ]
  }
 ],
 "metadata": {
  "kernelspec": {
   "display_name": "Python 3",
   "language": "python",
   "name": "python3"
  },
  "language_info": {
   "codemirror_mode": {
    "name": "ipython",
    "version": 3
   },
   "file_extension": ".py",
   "mimetype": "text/x-python",
   "name": "python",
   "nbconvert_exporter": "python",
   "pygments_lexer": "ipython3",
   "version": "3.6.5"
  }
 },
 "nbformat": 4,
 "nbformat_minor": 2
}
