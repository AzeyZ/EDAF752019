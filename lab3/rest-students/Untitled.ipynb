{
 "cells": [
  {
   "cell_type": "code",
   "execution_count": 1,
   "metadata": {},
   "outputs": [],
   "source": [
    "%load_ext sql"
   ]
  },
  {
   "cell_type": "code",
   "execution_count": 2,
   "metadata": {},
   "outputs": [
    {
     "data": {
      "text/plain": [
       "'Connected: @movies.db'"
      ]
     },
     "execution_count": 2,
     "metadata": {},
     "output_type": "execute_result"
    }
   ],
   "source": [
    "%sql sqlite:///movies.db"
   ]
  },
  {
   "cell_type": "code",
   "execution_count": 41,
   "metadata": {
    "scrolled": true
   },
   "outputs": [
    {
     "name": "stdout",
     "output_type": "stream",
     "text": [
      " * sqlite:///movies.db\n",
      "Done.\n"
     ]
    },
    {
     "data": {
      "text/html": [
       "<table>\n",
       "    <tr>\n",
       "        <th>user_name</th>\n",
       "        <th>full_name</th>\n",
       "        <th>pass_word</th>\n",
       "    </tr>\n",
       "    <tr>\n",
       "        <td>alice</td>\n",
       "        <td>Alice</td>\n",
       "        <td>5dae7886bbe2b1fb134e79f4b83612a16f5b26ef2ac06a91cd7caee0ee7b5557</td>\n",
       "    </tr>\n",
       "    <tr>\n",
       "        <td>bob</td>\n",
       "        <td>Bob</td>\n",
       "        <td>053fc66a6cef5cac353d70925c660075075b3be0abc34e01a15ccfc8e17fbcbd</td>\n",
       "    </tr>\n",
       "</table>"
      ],
      "text/plain": [
       "[('alice', 'Alice', '5dae7886bbe2b1fb134e79f4b83612a16f5b26ef2ac06a91cd7caee0ee7b5557'),\n",
       " ('bob', 'Bob', '053fc66a6cef5cac353d70925c660075075b3be0abc34e01a15ccfc8e17fbcbd')]"
      ]
     },
     "execution_count": 41,
     "metadata": {},
     "output_type": "execute_result"
    }
   ],
   "source": [
    "%%sql\n",
    "SELECT *\n",
    "FROM customers"
   ]
  }
 ],
 "metadata": {
  "kernelspec": {
   "display_name": "Python 3",
   "language": "python",
   "name": "python3"
  },
  "language_info": {
   "codemirror_mode": {
    "name": "ipython",
    "version": 3
   },
   "file_extension": ".py",
   "mimetype": "text/x-python",
   "name": "python",
   "nbconvert_exporter": "python",
   "pygments_lexer": "ipython3",
   "version": "3.6.5"
  }
 },
 "nbformat": 4,
 "nbformat_minor": 2
}
