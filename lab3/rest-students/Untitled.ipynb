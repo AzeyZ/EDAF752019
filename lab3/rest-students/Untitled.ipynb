{
 "cells": [
  {
   "cell_type": "code",
   "execution_count": 11,
   "metadata": {},
   "outputs": [
    {
     "name": "stdout",
     "output_type": "stream",
     "text": [
      "The sql extension is already loaded. To reload it, use:\n",
      "  %reload_ext sql\n"
     ]
    }
   ],
   "source": [
    "%load_ext sql"
   ]
  },
  {
   "cell_type": "code",
   "execution_count": 12,
   "metadata": {},
   "outputs": [
    {
     "data": {
      "text/plain": [
       "'Connected: @movies.db'"
      ]
     },
     "execution_count": 12,
     "metadata": {},
     "output_type": "execute_result"
    }
   ],
   "source": [
    "%sql sqlite:///movies.db"
   ]
  },
  {
   "cell_type": "code",
   "execution_count": 17,
   "metadata": {
    "scrolled": true
   },
   "outputs": [
    {
     "name": "stdout",
     "output_type": "stream",
     "text": [
      " * sqlite:///movies.db\n",
      "2 rows affected.\n",
      "3 rows affected.\n",
      "2 rows affected.\n",
      "3 rows affected.\n",
      "Done.\n"
     ]
    },
    {
     "data": {
      "text/html": [
       "<table>\n",
       "    <tr>\n",
       "        <th>screening_id</th>\n",
       "        <th>screening_date</th>\n",
       "        <th>screening_time</th>\n",
       "        <th>theater_name</th>\n",
       "        <th>movie_name</th>\n",
       "        <th>production_year</th>\n",
       "        <th>count()</th>\n",
       "    </tr>\n",
       "    <tr>\n",
       "        <td>6f1aecd24477f87de52e960c040a475c</td>\n",
       "        <td>19-02-23</td>\n",
       "        <td>19:00:00</td>\n",
       "        <td>Skandia</td>\n",
       "        <td>Moonlight</td>\n",
       "        <td>2016</td>\n",
       "        <td>1</td>\n",
       "    </tr>\n",
       "    <tr>\n",
       "        <td>f687173152b19c5b2e419991c6fe0b21</td>\n",
       "        <td>19-02-22</td>\n",
       "        <td>19:00:00</td>\n",
       "        <td>Kino</td>\n",
       "        <td>The Shape of Water</td>\n",
       "        <td>2017</td>\n",
       "        <td>2</td>\n",
       "    </tr>\n",
       "</table>"
      ],
      "text/plain": [
       "[('6f1aecd24477f87de52e960c040a475c', '19-02-23', '19:00:00', 'Skandia', 'Moonlight', 2016, 1),\n",
       " ('f687173152b19c5b2e419991c6fe0b21', '19-02-22', '19:00:00', 'Kino', 'The Shape of Water', 2017, 2)]"
      ]
     },
     "execution_count": 17,
     "metadata": {},
     "output_type": "execute_result"
    }
   ],
   "source": [
    "%%sql\n",
    "\n",
    "DELETE FROM screenings;\n",
    "DELETE FROM tickets;\n",
    "\n",
    "INSERT INTO screenings (screening_time, screening_date, production_year, movie_name, theater_name)\n",
    "VALUES  ('19:00:00', '19-02-22', 2017, \"The Shape of Water\", \"Kino\"),\n",
    "        ('19:00:00', '19-02-23', 2016, \"Moonlight\", \"Skandia\");\n",
    "\n",
    "INSERT INTO tickets(user_name, screening_time, screening_date, theater_name)\n",
    "VALUES  (\"alice\", '19:00:00', '19-02-22', \"Kino\"),\n",
    "        (\"alice\", '19:00:00', '19-02-22', \"Kino\"),\n",
    "        (\"alice\", '19:00:00', '19-02-23', \"Skandia\");\n",
    "\n",
    "SELECT screening_id, screening_date, screening_time, theater_name, movie_name, production_year, count()\n",
    "FROM tickets\n",
    "LEFT OUTER JOIN screenings\n",
    "USING (screening_time, screening_date, theater_name)\n",
    "WHERE user_name = \"alice\"\n",
    "GROUP BY screening_id"
   ]
  }
 ],
 "metadata": {
  "kernelspec": {
   "display_name": "Python 3",
   "language": "python",
   "name": "python3"
  },
  "language_info": {
   "codemirror_mode": {
    "name": "ipython",
    "version": 3
   },
   "file_extension": ".py",
   "mimetype": "text/x-python",
   "name": "python",
   "nbconvert_exporter": "python",
   "pygments_lexer": "ipython3",
   "version": "3.6.5"
  }
 },
 "nbformat": 4,
 "nbformat_minor": 2
}
