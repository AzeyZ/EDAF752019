{
 "cells": [
  {
   "cell_type": "code",
   "execution_count": 1,
   "metadata": {},
   "outputs": [],
   "source": [
    "%load_ext sql"
   ]
  },
  {
   "cell_type": "code",
   "execution_count": 2,
   "metadata": {},
   "outputs": [
    {
     "data": {
      "text/plain": [
       "'Connected: @movies.db'"
      ]
     },
     "execution_count": 2,
     "metadata": {},
     "output_type": "execute_result"
    }
   ],
   "source": [
    "%sql sqlite:///movies.db"
   ]
  },
  {
   "cell_type": "code",
   "execution_count": 3,
   "metadata": {
    "scrolled": true
   },
   "outputs": [
    {
     "name": "stdout",
     "output_type": "stream",
     "text": [
      " * sqlite:///movies.db\n",
      "Done.\n"
     ]
    },
    {
     "data": {
      "text/html": [
       "<table>\n",
       "    <tr>\n",
       "        <th>movie_name</th>\n",
       "        <th>production_year</th>\n",
       "        <th>playtime</th>\n",
       "        <th>imdb_key</th>\n",
       "    </tr>\n",
       "    <tr>\n",
       "        <td>The Shape of Water</td>\n",
       "        <td>2017</td>\n",
       "        <td>135</td>\n",
       "        <td>tt5580390</td>\n",
       "    </tr>\n",
       "    <tr>\n",
       "        <td>Moonlight</td>\n",
       "        <td>2016</td>\n",
       "        <td>111</td>\n",
       "        <td>tt4975722</td>\n",
       "    </tr>\n",
       "    <tr>\n",
       "        <td>Spotlight</td>\n",
       "        <td>2015</td>\n",
       "        <td>135</td>\n",
       "        <td>tt1895587</td>\n",
       "    </tr>\n",
       "    <tr>\n",
       "        <td>Birdman</td>\n",
       "        <td>2014</td>\n",
       "        <td>132</td>\n",
       "        <td>tt2562232</td>\n",
       "    </tr>\n",
       "</table>"
      ],
      "text/plain": [
       "[('The Shape of Water', 2017, 135, 'tt5580390'),\n",
       " ('Moonlight', 2016, 111, 'tt4975722'),\n",
       " ('Spotlight', 2015, 135, 'tt1895587'),\n",
       " ('Birdman', 2014, 132, 'tt2562232')]"
      ]
     },
     "execution_count": 3,
     "metadata": {},
     "output_type": "execute_result"
    }
   ],
   "source": [
    "%%sql\n",
    "\n",
    "SELECT *\n",
    "FROM movies"
   ]
  }
 ],
 "metadata": {
  "kernelspec": {
   "display_name": "Python 3",
   "language": "python",
   "name": "python3"
  },
  "language_info": {
   "codemirror_mode": {
    "name": "ipython",
    "version": 3
   },
   "file_extension": ".py",
   "mimetype": "text/x-python",
   "name": "python",
   "nbconvert_exporter": "python",
   "pygments_lexer": "ipython3",
   "version": "3.6.5"
  }
 },
 "nbformat": 4,
 "nbformat_minor": 2
}
