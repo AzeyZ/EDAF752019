{
 "cells": [
  {
   "cell_type": "code",
   "execution_count": 1,
   "metadata": {},
   "outputs": [],
   "source": [
    "%load_ext sql"
   ]
  },
  {
   "cell_type": "code",
   "execution_count": 2,
   "metadata": {},
   "outputs": [
    {
     "data": {
      "text/plain": [
       "'Connected: @movies.db'"
      ]
     },
     "execution_count": 2,
     "metadata": {},
     "output_type": "execute_result"
    }
   ],
   "source": [
    "%sql sqlite:///movies.db"
   ]
  },
  {
   "cell_type": "code",
   "execution_count": 18,
   "metadata": {
    "scrolled": true
   },
   "outputs": [
    {
     "name": "stdout",
     "output_type": "stream",
     "text": [
      " * sqlite:///movies.db\n",
      "2 rows affected.\n",
      "3 rows affected.\n",
      "2 rows affected.\n",
      "3 rows affected.\n",
      "Done.\n"
     ]
    },
    {
     "data": {
      "text/html": [
       "<table>\n",
       "    <tr>\n",
       "        <th>screening_date</th>\n",
       "        <th>screening_time</th>\n",
       "        <th>theater_name</th>\n",
       "        <th>movie_name</th>\n",
       "        <th>production_year</th>\n",
       "    </tr>\n",
       "    <tr>\n",
       "        <td>19-02-23</td>\n",
       "        <td>19:00:00</td>\n",
       "        <td>Skandia</td>\n",
       "        <td>Moonlight</td>\n",
       "        <td>2016</td>\n",
       "    </tr>\n",
       "</table>"
      ],
      "text/plain": [
       "[('19-02-23', '19:00:00', 'Skandia', 'Moonlight', 2016)]"
      ]
     },
     "execution_count": 18,
     "metadata": {},
     "output_type": "execute_result"
    }
   ],
   "source": [
    "%%sql\n",
    "\n",
    "DELETE FROM screenings;\n",
    "DELETE FROM tickets;\n",
    "\n",
    "INSERT INTO screenings\n",
    "VALUES  ('19:00:00', '19-02-22', 2017, \"The Shape of Water\", \"Kino\"),\n",
    "        ('19:00:00', '19-02-23', 2016, \"Moonlight\", \"Skandia\");\n",
    "\n",
    "INSERT INTO tickets(user_name, screening_time, screening_date, theater_name)\n",
    "VALUES  (\"alice\", '19:00:00', '19-02-22', \"Kino\"),\n",
    "        (\"alice\", '19:00:00', '19-02-22', \"Kino\"),\n",
    "        (\"alice\", '19:00:00', '19-02-23', \"Skandia\");\n",
    "\n",
    "SELECT screening_date, screening_time, theater_name, movie_name, production_year\n",
    "FROM tickets\n",
    "LEFT OUTER JOIN screenings\n",
    "USING (screening_time, screening_date, theater_name)\n",
    "WHERE user_name = \"alice\""
   ]
  }
 ],
 "metadata": {
  "kernelspec": {
   "display_name": "Python 3",
   "language": "python",
   "name": "python3"
  },
  "language_info": {
   "codemirror_mode": {
    "name": "ipython",
    "version": 3
   },
   "file_extension": ".py",
   "mimetype": "text/x-python",
   "name": "python",
   "nbconvert_exporter": "python",
   "pygments_lexer": "ipython3",
   "version": "3.6.5"
  }
 },
 "nbformat": 4,
 "nbformat_minor": 2
}
